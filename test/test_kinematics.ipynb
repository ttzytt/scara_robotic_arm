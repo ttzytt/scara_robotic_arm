{
 "cells": [
  {
   "cell_type": "code",
   "execution_count": 92,
   "metadata": {},
   "outputs": [
    {
     "name": "stdout",
     "output_type": "stream",
     "text": [
      "The autoreload extension is already loaded. To reload it, use:\n",
      "  %reload_ext autoreload\n"
     ]
    }
   ],
   "source": [
    "%load_ext autoreload\n",
    "%autoreload 2\n",
    "import sys \n",
    "sys.path.append(\"../\")\n",
    "from src.kinematics import *\n",
    "import pint\n",
    "ur = pint.UnitRegistry()"
   ]
  },
  {
   "cell_type": "code",
   "execution_count": 93,
   "metadata": {},
   "outputs": [],
   "source": [
    "setup = ParaScaraSetup(\n",
    "    lf_base_len = 100 * ur.mm,\n",
    "    rt_base_len = 100 * ur.mm,\n",
    "    lf_link_len = 100 * ur.mm,\n",
    "    rt_link_len = 100 * ur.mm,\n",
    "    axis_dist = 50 * ur.mm\n",
    ")\n",
    "kinematics = ParaScaraKinematics(setup)"
   ]
  },
  {
   "cell_type": "code",
   "execution_count": 94,
   "metadata": {},
   "outputs": [
    {
     "data": {
      "text/plain": [
       "[ParaScaraKinematics.InverseResult(lf_base_ang=<Quantity(121.043028, 'degree')>, rt_base_ang=<Quantity(58.9569719, 'degree')>),\n",
       " ParaScaraKinematics.InverseResult(lf_base_ang=<Quantity(40.0323275, 'degree')>, rt_base_ang=<Quantity(139.967673, 'degree')>),\n",
       " ParaScaraKinematics.InverseResult(lf_base_ang=<Quantity(121.043028, 'degree')>, rt_base_ang=<Quantity(139.967673, 'degree')>),\n",
       " ParaScaraKinematics.InverseResult(lf_base_ang=<Quantity(40.0323275, 'degree')>, rt_base_ang=<Quantity(58.9569719, 'degree')>)]"
      ]
     },
     "execution_count": 94,
     "metadata": {},
     "output_type": "execute_result"
    }
   ],
   "source": [
    "kinematics.inverse_kinematics(2.5 * ur.cm, 15 * ur.cm, ['+-', '-+', '++', '--'])"
   ]
  },
  {
   "cell_type": "code",
   "execution_count": 95,
   "metadata": {},
   "outputs": [
    {
     "data": {
      "text/plain": [
       "[ParaScaraKinematics.ForwardResult(x=<Quantity(25.0000001, 'millimeter')>, y=<Quantity(150.0, 'millimeter')>, lf_link_ang=<Quantity(40.0323275, 'degree')>, rt_link_ang=<Quantity(139.967672, 'degree')>),\n",
       " ParaScaraKinematics.ForwardResult(x=<Quantity(-128.136329, 'millimeter')>, y=<Quantity(150.0, 'millimeter')>, lf_link_ang=<Quantity(139.967672, 'degree')>, rt_link_ang=<Quantity(139.967672, 'degree')>),\n",
       " ParaScaraKinematics.ForwardResult(x=<Quantity(25.0, 'millimeter')>, y=<Quantity(21.3560548, 'millimeter')>, lf_link_ang=<Quantity(-40.0323276, 'degree')>, rt_link_ang=<Quantity(-139.967672, 'degree')>),\n",
       " ParaScaraKinematics.ForwardResult(x=<Quantity(-128.136329, 'millimeter')>, y=<Quantity(21.3560548, 'millimeter')>, lf_link_ang=<Quantity(220.032328, 'degree')>, rt_link_ang=<Quantity(-139.967672, 'degree')>)]"
      ]
     },
     "execution_count": 95,
     "metadata": {},
     "output_type": "execute_result"
    }
   ],
   "source": [
    "kinematics.forward_kinematics(121.043028 * ur.deg, 58.9569719 * ur.deg)"
   ]
  },
  {
   "cell_type": "code",
   "execution_count": 96,
   "metadata": {},
   "outputs": [
    {
     "data": {
      "text/plain": [
       "[ParaScaraKinematics.InverseResult(lf_base_ang=<Quantity(121.043028, 'degree')>, rt_base_ang=<Quantity(26.2370629, 'degree')>),\n",
       " ParaScaraKinematics.InverseResult(lf_base_ang=<Quantity(-0.343881357, 'degree')>, rt_base_ang=<Quantity(155.877288, 'degree')>),\n",
       " ParaScaraKinematics.InverseResult(lf_base_ang=<Quantity(121.043028, 'degree')>, rt_base_ang=<Quantity(155.877288, 'degree')>),\n",
       " ParaScaraKinematics.InverseResult(lf_base_ang=<Quantity(-0.343881357, 'degree')>, rt_base_ang=<Quantity(26.2370629, 'degree')>)]"
      ]
     },
     "execution_count": 96,
     "metadata": {},
     "output_type": "execute_result"
    }
   ],
   "source": [
    "kinematics.inverse_kinematics(\n",
    "    48.4300344 * ur.mm, 85.077845 * ur.mm, ['+-', '-+', '++', '--'])"
   ]
  },
  {
   "cell_type": "code",
   "execution_count": 97,
   "metadata": {},
   "outputs": [
    {
     "data": {
      "text/plain": [
       "[ParaScaraKinematics.ForwardResult(x=<Quantity(25.0, 'millimeter')>, y=<Quantity(196.824584, 'millimeter')>, lf_link_ang=<Quantity(75.5224878, 'degree')>, rt_link_ang=<Quantity(104.477512, 'degree')>),\n",
       " ParaScaraKinematics.ForwardResult(x=<Quantity(-25.0, 'millimeter')>, y=<Quantity(196.824584, 'millimeter')>, lf_link_ang=<Quantity(104.477512, 'degree')>, rt_link_ang=<Quantity(104.477512, 'degree')>),\n",
       " ParaScaraKinematics.ForwardResult(x=<Quantity(25.0, 'millimeter')>, y=<Quantity(3.17541634, 'millimeter')>, lf_link_ang=<Quantity(-75.5224878, 'degree')>, rt_link_ang=<Quantity(-104.477512, 'degree')>),\n",
       " ParaScaraKinematics.ForwardResult(x=<Quantity(-25.0, 'millimeter')>, y=<Quantity(3.17541634, 'millimeter')>, lf_link_ang=<Quantity(255.522488, 'degree')>, rt_link_ang=<Quantity(-104.477512, 'degree')>)]"
      ]
     },
     "execution_count": 97,
     "metadata": {},
     "output_type": "execute_result"
    }
   ],
   "source": [
    "kinematics.forward_kinematics(90 * ur.deg, 90* ur.deg)"
   ]
  },
  {
   "cell_type": "code",
   "execution_count": 100,
   "metadata": {},
   "outputs": [
    {
     "data": {
      "text/plain": [
       "[ParaScaraKinematics.InverseResult(lf_base_ang=<Quantity(90.0000081, 'degree')>, rt_base_ang=<Quantity(89.9999919, 'degree')>),\n",
       " ParaScaraKinematics.InverseResult(lf_base_ang=<Quantity(75.5224794, 'degree')>, rt_base_ang=<Quantity(104.477521, 'degree')>),\n",
       " ParaScaraKinematics.InverseResult(lf_base_ang=<Quantity(90.0000081, 'degree')>, rt_base_ang=<Quantity(104.477521, 'degree')>),\n",
       " ParaScaraKinematics.InverseResult(lf_base_ang=<Quantity(75.5224794, 'degree')>, rt_base_ang=<Quantity(89.9999919, 'degree')>)]"
      ]
     },
     "execution_count": 100,
     "metadata": {},
     "output_type": "execute_result"
    }
   ],
   "source": [
    "kinematics.inverse_kinematics(\n",
    "    25 * ur.mm, 196.82458 * ur.mm, ['+-', '-+', '++', '--'])"
   ]
  }
 ],
 "metadata": {
  "kernelspec": {
   "display_name": "Python 3",
   "language": "python",
   "name": "python3"
  },
  "language_info": {
   "codemirror_mode": {
    "name": "ipython",
    "version": 3
   },
   "file_extension": ".py",
   "mimetype": "text/x-python",
   "name": "python",
   "nbconvert_exporter": "python",
   "pygments_lexer": "ipython3",
   "version": "3.11.0"
  }
 },
 "nbformat": 4,
 "nbformat_minor": 2
}
