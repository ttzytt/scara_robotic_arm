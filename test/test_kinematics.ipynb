{
 "cells": [
  {
   "cell_type": "code",
   "execution_count": 3,
   "metadata": {},
   "outputs": [],
   "source": [
    "%load_ext autoreload\n",
    "%autoreload 2\n",
    "import sys \n",
    "sys.path.append(\"../\")\n",
    "from src.kinematics import *\n",
    "import pint\n",
    "ur = pint.UnitRegistry()"
   ]
  },
  {
   "cell_type": "code",
   "execution_count": 4,
   "metadata": {},
   "outputs": [],
   "source": [
    "setup = ParaScaraSetup(\n",
    "    lf_base_len = 100 * ur.mm,\n",
    "    rt_base_len = 100 * ur.mm,\n",
    "    lf_link_len = 100 * ur.mm,\n",
    "    rt_link_len = 100 * ur.mm,\n",
    "    axis_dist = 50 * ur.mm\n",
    ")\n",
    "kinematics = ParaScaraKinematics(setup)"
   ]
  },
  {
   "cell_type": "code",
   "execution_count": 5,
   "metadata": {},
   "outputs": [
    {
     "data": {
      "text/plain": [
       "[ParaScaraState(end_effector_pos=(<Quantity(2.5, 'centimeter')>, <Quantity(15, 'centimeter')>), lf_base_endpos=(<Quantity(-51.5681647, 'millimeter')>, <Quantity(85.6780275, 'millimeter')>), rt_base_endpos=(<Quantity(101.568165, 'millimeter')>, <Quantity(85.6780275, 'millimeter')>), lf_base_ang=<Quantity(121.043028, 'degree')>, rt_base_ang=<Quantity(58.9569719, 'degree')>, lf_link_ang=<Quantity(40.0323275, 'degree')>, rt_link_ang=<Quantity(139.967673, 'degree')>),\n",
       " ParaScaraState(end_effector_pos=(<Quantity(2.5, 'centimeter')>, <Quantity(15, 'centimeter')>), lf_base_endpos=(<Quantity(76.5681647, 'millimeter')>, <Quantity(64.3219725, 'millimeter')>), rt_base_endpos=(<Quantity(-26.5681647, 'millimeter')>, <Quantity(64.3219725, 'millimeter')>), lf_base_ang=<Quantity(40.0323275, 'degree')>, rt_base_ang=<Quantity(139.967673, 'degree')>, lf_link_ang=<Quantity(121.043028, 'degree')>, rt_link_ang=<Quantity(58.9569719, 'degree')>),\n",
       " ParaScaraState(end_effector_pos=(<Quantity(2.5, 'centimeter')>, <Quantity(15, 'centimeter')>), lf_base_endpos=(<Quantity(-51.5681647, 'millimeter')>, <Quantity(85.6780275, 'millimeter')>), rt_base_endpos=(<Quantity(-26.5681647, 'millimeter')>, <Quantity(64.3219725, 'millimeter')>), lf_base_ang=<Quantity(121.043028, 'degree')>, rt_base_ang=<Quantity(139.967673, 'degree')>, lf_link_ang=<Quantity(40.0323275, 'degree')>, rt_link_ang=<Quantity(58.9569719, 'degree')>),\n",
       " ParaScaraState(end_effector_pos=(<Quantity(2.5, 'centimeter')>, <Quantity(15, 'centimeter')>), lf_base_endpos=(<Quantity(76.5681647, 'millimeter')>, <Quantity(64.3219725, 'millimeter')>), rt_base_endpos=(<Quantity(101.568165, 'millimeter')>, <Quantity(85.6780275, 'millimeter')>), lf_base_ang=<Quantity(40.0323275, 'degree')>, rt_base_ang=<Quantity(58.9569719, 'degree')>, lf_link_ang=<Quantity(121.043028, 'degree')>, rt_link_ang=<Quantity(139.967673, 'degree')>)]"
      ]
     },
     "execution_count": 5,
     "metadata": {},
     "output_type": "execute_result"
    }
   ],
   "source": [
    "kinematics.inverse_kinematics(2.5 * ur.cm, 15 * ur.cm, ['+-', '-+', '++', '--'])"
   ]
  },
  {
   "cell_type": "code",
   "execution_count": 6,
   "metadata": {},
   "outputs": [
    {
     "data": {
      "text/plain": [
       "[ParaScaraState(end_effector_pos=(<Quantity(25.0000001, 'millimeter')>, <Quantity(150.0, 'millimeter')>), lf_base_endpos=(<Quantity(-51.5681645, 'millimeter')>, <Quantity(85.6780276, 'millimeter')>), rt_base_endpos=(<Quantity(101.568165, 'millimeter')>, <Quantity(85.6780275, 'millimeter')>), lf_base_ang=<Quantity(121.043028, 'degree')>, rt_base_ang=<Quantity(58.9569719, 'degree')>, lf_link_ang=<Quantity(40.0323275, 'degree')>, rt_link_ang=<Quantity(139.967672, 'degree')>),\n",
       " ParaScaraState(end_effector_pos=(<Quantity(25.0, 'millimeter')>, <Quantity(21.3560548, 'millimeter')>), lf_base_endpos=(<Quantity(-51.5681645, 'millimeter')>, <Quantity(85.6780276, 'millimeter')>), rt_base_endpos=(<Quantity(101.568165, 'millimeter')>, <Quantity(85.6780275, 'millimeter')>), lf_base_ang=<Quantity(121.043028, 'degree')>, rt_base_ang=<Quantity(58.9569719, 'degree')>, lf_link_ang=<Quantity(-40.0323276, 'degree')>, rt_link_ang=<Quantity(-139.967672, 'degree')>)]"
      ]
     },
     "execution_count": 6,
     "metadata": {},
     "output_type": "execute_result"
    }
   ],
   "source": [
    "kinematics.forward_kinematics(121.043028 * ur.deg, 58.9569719 * ur.deg)"
   ]
  },
  {
   "cell_type": "code",
   "execution_count": 7,
   "metadata": {},
   "outputs": [
    {
     "data": {
      "text/plain": [
       "[ParaScaraState(end_effector_pos=(<Quantity(48.4300344, 'millimeter')>, <Quantity(85.077845, 'millimeter')>), lf_base_endpos=(<Quantity(-51.5681645, 'millimeter')>, <Quantity(85.6780276, 'millimeter')>), rt_base_endpos=(<Quantity(139.697259, 'millimeter')>, <Quantity(44.208617, 'millimeter')>), lf_base_ang=<Quantity(121.043028, 'degree')>, rt_base_ang=<Quantity(26.2370629, 'degree')>, lf_link_ang=<Quantity(-0.343881357, 'degree')>, rt_link_ang=<Quantity(155.877288, 'degree')>),\n",
       " ParaScaraState(end_effector_pos=(<Quantity(48.4300344, 'millimeter')>, <Quantity(85.077845, 'millimeter')>), lf_base_endpos=(<Quantity(99.9981989, 'millimeter')>, <Quantity(-0.600182588, 'millimeter')>), rt_base_endpos=(<Quantity(-41.2672241, 'millimeter')>, <Quantity(40.869228, 'millimeter')>), lf_base_ang=<Quantity(-0.343881357, 'degree')>, rt_base_ang=<Quantity(155.877288, 'degree')>, lf_link_ang=<Quantity(121.043028, 'degree')>, rt_link_ang=<Quantity(26.2370629, 'degree')>),\n",
       " ParaScaraState(end_effector_pos=(<Quantity(48.4300344, 'millimeter')>, <Quantity(85.077845, 'millimeter')>), lf_base_endpos=(<Quantity(-51.5681645, 'millimeter')>, <Quantity(85.6780276, 'millimeter')>), rt_base_endpos=(<Quantity(-41.2672241, 'millimeter')>, <Quantity(40.869228, 'millimeter')>), lf_base_ang=<Quantity(121.043028, 'degree')>, rt_base_ang=<Quantity(155.877288, 'degree')>, lf_link_ang=<Quantity(-0.343881357, 'degree')>, rt_link_ang=<Quantity(26.2370629, 'degree')>),\n",
       " ParaScaraState(end_effector_pos=(<Quantity(48.4300344, 'millimeter')>, <Quantity(85.077845, 'millimeter')>), lf_base_endpos=(<Quantity(99.9981989, 'millimeter')>, <Quantity(-0.600182588, 'millimeter')>), rt_base_endpos=(<Quantity(139.697259, 'millimeter')>, <Quantity(44.208617, 'millimeter')>), lf_base_ang=<Quantity(-0.343881357, 'degree')>, rt_base_ang=<Quantity(26.2370629, 'degree')>, lf_link_ang=<Quantity(121.043028, 'degree')>, rt_link_ang=<Quantity(155.877288, 'degree')>)]"
      ]
     },
     "execution_count": 7,
     "metadata": {},
     "output_type": "execute_result"
    }
   ],
   "source": [
    "kinematics.inverse_kinematics(\n",
    "    48.4300344 * ur.mm, 85.077845 * ur.mm, ['+-', '-+', '++', '--'])"
   ]
  },
  {
   "cell_type": "code",
   "execution_count": 8,
   "metadata": {},
   "outputs": [
    {
     "data": {
      "text/plain": [
       "[ParaScaraState(end_effector_pos=(<Quantity(25.0, 'millimeter')>, <Quantity(196.824584, 'millimeter')>), lf_base_endpos=(<Quantity(6.123234e-15, 'millimeter')>, <Quantity(100.0, 'millimeter')>), rt_base_endpos=(<Quantity(50.0, 'millimeter')>, <Quantity(100.0, 'millimeter')>), lf_base_ang=<Quantity(90, 'degree')>, rt_base_ang=<Quantity(90, 'degree')>, lf_link_ang=<Quantity(75.5224878, 'degree')>, rt_link_ang=<Quantity(104.477512, 'degree')>),\n",
       " ParaScaraState(end_effector_pos=(<Quantity(25.0, 'millimeter')>, <Quantity(3.17541634, 'millimeter')>), lf_base_endpos=(<Quantity(6.123234e-15, 'millimeter')>, <Quantity(100.0, 'millimeter')>), rt_base_endpos=(<Quantity(50.0, 'millimeter')>, <Quantity(100.0, 'millimeter')>), lf_base_ang=<Quantity(90, 'degree')>, rt_base_ang=<Quantity(90, 'degree')>, lf_link_ang=<Quantity(-75.5224878, 'degree')>, rt_link_ang=<Quantity(-104.477512, 'degree')>)]"
      ]
     },
     "execution_count": 8,
     "metadata": {},
     "output_type": "execute_result"
    }
   ],
   "source": [
    "kinematics.forward_kinematics(90 * ur.deg, 90* ur.deg)\n",
    "# for this, the solution -25, 196.82 won't work, investigate why"
   ]
  },
  {
   "cell_type": "code",
   "execution_count": 9,
   "metadata": {},
   "outputs": [
    {
     "data": {
      "text/plain": [
       "[ParaScaraState(end_effector_pos=(<Quantity(25, 'millimeter')>, <Quantity(3.17541634, 'millimeter')>), lf_base_endpos=(<Quantity(1.86467791e-08, 'millimeter')>, <Quantity(100.0, 'millimeter')>), rt_base_endpos=(<Quantity(50.0, 'millimeter')>, <Quantity(100.0, 'millimeter')>), lf_base_ang=<Quantity(90.0, 'degree')>, rt_base_ang=<Quantity(90.0, 'degree')>, lf_link_ang=<Quantity(-75.5224878, 'degree')>, rt_link_ang=<Quantity(-104.477512, 'degree')>),\n",
       " ParaScaraState(end_effector_pos=(<Quantity(25, 'millimeter')>, <Quantity(3.17541634, 'millimeter')>), lf_base_endpos=(<Quantity(25.0, 'millimeter')>, <Quantity(-96.8245837, 'millimeter')>), rt_base_endpos=(<Quantity(25.0, 'millimeter')>, <Quantity(-96.8245837, 'millimeter')>), lf_base_ang=<Quantity(-75.5224878, 'degree')>, rt_base_ang=<Quantity(255.522488, 'degree')>, lf_link_ang=<Quantity(90.0, 'degree')>, rt_link_ang=<Quantity(90.0, 'degree')>),\n",
       " ParaScaraState(end_effector_pos=(<Quantity(25, 'millimeter')>, <Quantity(3.17541634, 'millimeter')>), lf_base_endpos=(<Quantity(1.86467791e-08, 'millimeter')>, <Quantity(100.0, 'millimeter')>), rt_base_endpos=(<Quantity(25.0, 'millimeter')>, <Quantity(-96.8245837, 'millimeter')>), lf_base_ang=<Quantity(90.0, 'degree')>, rt_base_ang=<Quantity(255.522488, 'degree')>, lf_link_ang=<Quantity(-75.5224878, 'degree')>, rt_link_ang=<Quantity(90.0, 'degree')>),\n",
       " ParaScaraState(end_effector_pos=(<Quantity(25, 'millimeter')>, <Quantity(3.17541634, 'millimeter')>), lf_base_endpos=(<Quantity(25.0, 'millimeter')>, <Quantity(-96.8245837, 'millimeter')>), rt_base_endpos=(<Quantity(50.0, 'millimeter')>, <Quantity(100.0, 'millimeter')>), lf_base_ang=<Quantity(-75.5224878, 'degree')>, rt_base_ang=<Quantity(90.0, 'degree')>, lf_link_ang=<Quantity(90.0, 'degree')>, rt_link_ang=<Quantity(-104.477512, 'degree')>)]"
      ]
     },
     "execution_count": 9,
     "metadata": {},
     "output_type": "execute_result"
    }
   ],
   "source": [
    "kinematics.inverse_kinematics(\n",
    "    25 * ur.mm, 3.17541634 * ur.mm, ['+-', '-+', '++', '--'])"
   ]
  },
  {
   "cell_type": "code",
   "execution_count": 10,
   "metadata": {},
   "outputs": [
    {
     "data": {
      "text/plain": [
       "[ParaScaraState(end_effector_pos=(<Quantity(25, 'millimeter')>, <Quantity(196.824584, 'millimeter')>), lf_base_endpos=(<Quantity(1.33546113e-06, 'millimeter')>, <Quantity(100.0, 'millimeter')>), rt_base_endpos=(<Quantity(49.9999987, 'millimeter')>, <Quantity(100.0, 'millimeter')>), lf_base_ang=<Quantity(89.9999992, 'degree')>, rt_base_ang=<Quantity(90.0000008, 'degree')>, lf_link_ang=<Quantity(75.5224886, 'degree')>, rt_link_ang=<Quantity(104.477511, 'degree')>),\n",
       " ParaScaraState(end_effector_pos=(<Quantity(25, 'millimeter')>, <Quantity(196.824584, 'millimeter')>), lf_base_endpos=(<Quantity(24.9999987, 'millimeter')>, <Quantity(96.824584, 'millimeter')>), rt_base_endpos=(<Quantity(25.0000013, 'millimeter')>, <Quantity(96.824584, 'millimeter')>), lf_base_ang=<Quantity(75.5224886, 'degree')>, rt_base_ang=<Quantity(104.477511, 'degree')>, lf_link_ang=<Quantity(89.9999992, 'degree')>, rt_link_ang=<Quantity(90.0000008, 'degree')>),\n",
       " ParaScaraState(end_effector_pos=(<Quantity(25, 'millimeter')>, <Quantity(196.824584, 'millimeter')>), lf_base_endpos=(<Quantity(1.33546113e-06, 'millimeter')>, <Quantity(100.0, 'millimeter')>), rt_base_endpos=(<Quantity(25.0000013, 'millimeter')>, <Quantity(96.824584, 'millimeter')>), lf_base_ang=<Quantity(89.9999992, 'degree')>, rt_base_ang=<Quantity(104.477511, 'degree')>, lf_link_ang=<Quantity(75.5224886, 'degree')>, rt_link_ang=<Quantity(90.0000008, 'degree')>),\n",
       " ParaScaraState(end_effector_pos=(<Quantity(25, 'millimeter')>, <Quantity(196.824584, 'millimeter')>), lf_base_endpos=(<Quantity(24.9999987, 'millimeter')>, <Quantity(96.824584, 'millimeter')>), rt_base_endpos=(<Quantity(49.9999987, 'millimeter')>, <Quantity(100.0, 'millimeter')>), lf_base_ang=<Quantity(75.5224886, 'degree')>, rt_base_ang=<Quantity(90.0000008, 'degree')>, lf_link_ang=<Quantity(89.9999992, 'degree')>, rt_link_ang=<Quantity(104.477511, 'degree')>)]"
      ]
     },
     "execution_count": 10,
     "metadata": {},
     "output_type": "execute_result"
    }
   ],
   "source": [
    "kinematics.inverse_kinematics(25 * ur.mm, 196.824584 * ur.mm, [\"+-\", \"-+\", \"++\", \"--\"])\n"
   ]
  },
  {
   "cell_type": "code",
   "execution_count": 11,
   "metadata": {},
   "outputs": [
    {
     "data": {
      "text/plain": [
       "[ParaScaraState(end_effector_pos=(<Quantity(77.6371628, 'millimeter')>, <Quantity(-3.89491566, 'millimeter')>), lf_base_endpos=(<Quantity(34.2020143, 'millimeter')>, <Quantity(-93.9692621, 'millimeter')>), rt_base_endpos=(<Quantity(50.0, 'millimeter')>, <Quantity(-100.0, 'millimeter')>), lf_base_ang=<Quantity(-70, 'degree')>, rt_base_ang=<Quantity(-90, 'degree')>, lf_link_ang=<Quantity(64.255965, 'degree')>, rt_link_ang=<Quantity(73.9562291, 'degree')>),\n",
       " ParaScaraState(end_effector_pos=(<Quantity(6.56485158, 'millimeter')>, <Quantity(-190.074346, 'millimeter')>), lf_base_endpos=(<Quantity(34.2020143, 'millimeter')>, <Quantity(-93.9692621, 'millimeter')>), rt_base_endpos=(<Quantity(50.0, 'millimeter')>, <Quantity(-100.0, 'millimeter')>), lf_base_ang=<Quantity(-70, 'degree')>, rt_base_ang=<Quantity(-90, 'degree')>, lf_link_ang=<Quantity(253.956229, 'degree')>, rt_link_ang=<Quantity(-115.744035, 'degree')>)]"
      ]
     },
     "execution_count": 11,
     "metadata": {},
     "output_type": "execute_result"
    }
   ],
   "source": [
    "kinematics.forward_kinematics(-70 * ur.deg, -90 * ur.deg)"
   ]
  },
  {
   "cell_type": "code",
   "execution_count": null,
   "metadata": {},
   "outputs": [],
   "source": [
    "setup = ParaScaraSetup(\n",
    "    lf_base_len=90 * ur.mm,\n",
    "    rt_base_len=90 * ur.mm,\n",
    "    lf_link_len=80 * ur.mm,\n",
    "    rt_link_len=80 * ur.mm,\n",
    "    axis_dist=55 * ur.mm,\n",
    ")\n",
    "kinematics = ParaScaraKinematics(setup)\n"
   ]
  }
 ],
 "metadata": {
  "kernelspec": {
   "display_name": ".venv",
   "language": "python",
   "name": "python3"
  },
  "language_info": {
   "codemirror_mode": {
    "name": "ipython",
    "version": 3
   },
   "file_extension": ".py",
   "mimetype": "text/x-python",
   "name": "python",
   "nbconvert_exporter": "python",
   "pygments_lexer": "ipython3",
   "version": "3.11.2"
  }
 },
 "nbformat": 4,
 "nbformat_minor": 2
}
